{
  "nbformat": 4,
  "nbformat_minor": 0,
  "metadata": {
    "colab": {
      "name": "sobhani.ipynb",
      "provenance": [],
      "authorship_tag": "ABX9TyOyZa+FR3+NgDjoP054Gwuy",
      "include_colab_link": true
    },
    "kernelspec": {
      "display_name": "Python 3",
      "name": "python3"
    }
  },
  "cells": [
    {
      "cell_type": "markdown",
      "metadata": {
        "id": "view-in-github",
        "colab_type": "text"
      },
      "source": [
        "<a href=\"https://colab.research.google.com/github/BLOSSOM1994/testtt/blob/main/sobhani.ipynb\" target=\"_parent\"><img src=\"https://colab.research.google.com/assets/colab-badge.svg\" alt=\"Open In Colab\"/></a>"
      ]
    },
    {
      "cell_type": "code",
      "metadata": {
        "colab": {
          "base_uri": "https://localhost:8080/"
        },
        "id": "t061pMLd9Ib6",
        "outputId": "e76010d9-2acd-42ba-bd1a-246a6ae01338"
      },
      "source": [
        "!pip install keras\r\n",
        "!pip install stopwords_guilannlp\r\n",
        "!pip install nltk\r\n",
        "!pip install hazm\r\n"
      ],
      "execution_count": 94,
      "outputs": [
        {
          "output_type": "stream",
          "text": [
            "Requirement already satisfied: keras in /usr/local/lib/python3.6/dist-packages (2.4.3)\n",
            "Requirement already satisfied: scipy>=0.14 in /usr/local/lib/python3.6/dist-packages (from keras) (1.4.1)\n",
            "Requirement already satisfied: numpy>=1.9.1 in /usr/local/lib/python3.6/dist-packages (from keras) (1.19.5)\n",
            "Requirement already satisfied: h5py in /usr/local/lib/python3.6/dist-packages (from keras) (2.10.0)\n",
            "Requirement already satisfied: pyyaml in /usr/local/lib/python3.6/dist-packages (from keras) (3.13)\n",
            "Requirement already satisfied: six in /usr/local/lib/python3.6/dist-packages (from h5py->keras) (1.15.0)\n",
            "Requirement already satisfied: stopwords_guilannlp in /usr/local/lib/python3.6/dist-packages (13.2019.3.5)\n",
            "Requirement already satisfied: nltk in /usr/local/lib/python3.6/dist-packages (3.3)\n",
            "Requirement already satisfied: six in /usr/local/lib/python3.6/dist-packages (from nltk) (1.15.0)\n",
            "Requirement already satisfied: hazm in /usr/local/lib/python3.6/dist-packages (0.7.0)\n",
            "Requirement already satisfied: nltk==3.3 in /usr/local/lib/python3.6/dist-packages (from hazm) (3.3)\n",
            "Requirement already satisfied: libwapiti>=0.2.1; platform_system != \"Windows\" in /usr/local/lib/python3.6/dist-packages (from hazm) (0.2.1)\n",
            "Requirement already satisfied: six in /usr/local/lib/python3.6/dist-packages (from nltk==3.3->hazm) (1.15.0)\n"
          ],
          "name": "stdout"
        }
      ]
    },
    {
      "cell_type": "code",
      "metadata": {
        "id": "zmEmmndg6wbK"
      },
      "source": [
        "import pandas as pd\r\n",
        "import numpy as np\r\n",
        "from scipy.stats import randint\r\n",
        "import seaborn as sns # used for plot interactive graph. \r\n",
        "import matplotlib.pyplot as plt\r\n",
        "import seaborn as sns\r\n",
        "from io import StringIO\r\n",
        "from sklearn.feature_extraction.text import TfidfVectorizer\r\n",
        "from sklearn.feature_selection import chi2\r\n",
        "from IPython.display import display\r\n",
        "from sklearn.model_selection import train_test_split\r\n",
        "from sklearn.feature_extraction.text import TfidfTransformer\r\n",
        "from sklearn.linear_model import LogisticRegression\r\n",
        "from sklearn.ensemble import RandomForestClassifier\r\n",
        "from sklearn.svm import LinearSVC\r\n",
        "from sklearn.model_selection import cross_val_score\r\n",
        "from sklearn.metrics import confusion_matrix\r\n",
        "from sklearn import metrics\r\n",
        "from string import punctuation\r\n",
        "#import warnings\r\n",
        "#warnings.filterwarnings(\"ignore\", category=FutureWarning)"
      ],
      "execution_count": 95,
      "outputs": []
    },
    {
      "cell_type": "code",
      "metadata": {
        "colab": {
          "base_uri": "https://localhost:8080/"
        },
        "id": "d3wu0-JD8zUx",
        "outputId": "12074cb8-354d-4f3f-8531-88a47b93afde"
      },
      "source": [
        "import re\r\n",
        "import hazm \r\n",
        "from stopwords_guilannlp import *\r\n",
        "import nltk\r\n",
        "nltk.download('stopwords')\r\n",
        "nltk.download('punkt')\r\n",
        "from nltk.corpus import stopwords\r\n",
        "#--------------------------------"
      ],
      "execution_count": 96,
      "outputs": [
        {
          "output_type": "stream",
          "text": [
            "[nltk_data] Downloading package stopwords to /root/nltk_data...\n",
            "[nltk_data]   Package stopwords is already up-to-date!\n",
            "[nltk_data] Downloading package punkt to /root/nltk_data...\n",
            "[nltk_data]   Package punkt is already up-to-date!\n"
          ],
          "name": "stdout"
        }
      ]
    },
    {
      "cell_type": "code",
      "metadata": {
        "colab": {
          "base_uri": "https://localhost:8080/"
        },
        "id": "iC-InAIr61rr",
        "outputId": "3d3a09c8-bdac-42a9-e1a6-e7546c478b36"
      },
      "source": [
        "# loading data\r\n",
        "df = pd.read_excel('/content/SobhaniComment.xlsx')\r\n",
        "df.shape"
      ],
      "execution_count": 97,
      "outputs": [
        {
          "output_type": "execute_result",
          "data": {
            "text/plain": [
              "(2000, 4)"
            ]
          },
          "metadata": {
            "tags": []
          },
          "execution_count": 97
        }
      ]
    },
    {
      "cell_type": "code",
      "metadata": {
        "colab": {
          "base_uri": "https://localhost:8080/",
          "height": 175
        },
        "id": "sTvKlIg7640V",
        "outputId": "31d1c445-b2b2-4e5e-abe9-d4e9074dd568"
      },
      "source": [
        "df.head(2).T # Columns are shown in rows for easy reading"
      ],
      "execution_count": 98,
      "outputs": [
        {
          "output_type": "execute_result",
          "data": {
            "text/html": [
              "<div>\n",
              "<style scoped>\n",
              "    .dataframe tbody tr th:only-of-type {\n",
              "        vertical-align: middle;\n",
              "    }\n",
              "\n",
              "    .dataframe tbody tr th {\n",
              "        vertical-align: top;\n",
              "    }\n",
              "\n",
              "    .dataframe thead th {\n",
              "        text-align: right;\n",
              "    }\n",
              "</style>\n",
              "<table border=\"1\" class=\"dataframe\">\n",
              "  <thead>\n",
              "    <tr style=\"text-align: right;\">\n",
              "      <th></th>\n",
              "      <th>0</th>\n",
              "      <th>1</th>\n",
              "    </tr>\n",
              "  </thead>\n",
              "  <tbody>\n",
              "    <tr>\n",
              "      <th>Unnamed: 0</th>\n",
              "      <td>0</td>\n",
              "      <td>1</td>\n",
              "    </tr>\n",
              "    <tr>\n",
              "      <th>confirmed_at</th>\n",
              "      <td>2018-04-03 14:50:07</td>\n",
              "      <td>2018-04-03 14:49:07</td>\n",
              "    </tr>\n",
              "    <tr>\n",
              "      <th>comment</th>\n",
              "      <td>واقعا عالیه .پیشنهاد میکنم بخرید .ضرر نمیکنید</td>\n",
              "      <td>مقداری بلنده\\nاگه عادت به بلند بودن بالش نداری...</td>\n",
              "    </tr>\n",
              "    <tr>\n",
              "      <th>Label</th>\n",
              "      <td>U0001F970</td>\n",
              "      <td>U0001F970</td>\n",
              "    </tr>\n",
              "  </tbody>\n",
              "</table>\n",
              "</div>"
            ],
            "text/plain": [
              "                                                          0                                                  1\n",
              "Unnamed: 0                                                0                                                  1\n",
              "confirmed_at                            2018-04-03 14:50:07                                2018-04-03 14:49:07\n",
              "comment       واقعا عالیه .پیشنهاد میکنم بخرید .ضرر نمیکنید  مقداری بلنده\\nاگه عادت به بلند بودن بالش نداری...\n",
              "Label                                             U0001F970                                          U0001F970"
            ]
          },
          "metadata": {
            "tags": []
          },
          "execution_count": 98
        }
      ]
    },
    {
      "cell_type": "code",
      "metadata": {
        "colab": {
          "base_uri": "https://localhost:8080/"
        },
        "id": "8Wq68YGD9nAK",
        "outputId": "46a1f9d3-4871-4a41-bceb-cb11d732d533"
      },
      "source": [
        "# Create a new dataframe with two columns\r\n",
        "df1 = df[['comment', 'Label']].copy()\r\n",
        "\r\n",
        "# Remove missing values (NaN)\r\n",
        "df1 = df1[pd.notnull(df1['Label'])]\r\n",
        "\r\n",
        "df1.shape"
      ],
      "execution_count": 99,
      "outputs": [
        {
          "output_type": "execute_result",
          "data": {
            "text/plain": [
              "(2000, 2)"
            ]
          },
          "metadata": {
            "tags": []
          },
          "execution_count": 99
        }
      ]
    },
    {
      "cell_type": "code",
      "metadata": {
        "colab": {
          "base_uri": "https://localhost:8080/"
        },
        "id": "I2fs9TbM-3SX",
        "outputId": "7fe18c7e-c15d-4c90-e809-3203a3b265e0"
      },
      "source": [
        "# Percentage of complaints with text\r\n",
        "total = df1['Label'].notnull().sum()\r\n",
        "round((total/len(df)*100),1)"
      ],
      "execution_count": 100,
      "outputs": [
        {
          "output_type": "execute_result",
          "data": {
            "text/plain": [
              "100.0"
            ]
          },
          "metadata": {
            "tags": []
          },
          "execution_count": 100
        }
      ]
    },
    {
      "cell_type": "code",
      "metadata": {
        "colab": {
          "base_uri": "https://localhost:8080/"
        },
        "id": "c0ePCR06_Eer",
        "outputId": "b62b6678-0d9d-4989-f80c-64e1242c89d2"
      },
      "source": [
        "pd.DataFrame(df.comment.unique()).values"
      ],
      "execution_count": 101,
      "outputs": [
        {
          "output_type": "execute_result",
          "data": {
            "text/plain": [
              "array([['واقعا عالیه .پیشنهاد میکنم بخرید .ضرر نمیکنید'],\n",
              "       ['مقداری بلنده\\nاگه عادت به بلند بودن بالش ندارید ممکنه اذیت بشید'],\n",
              "       ['تو پیسنهاد شگفت انگیز خریدم\\nخیلی تیز و باکیفیته'],\n",
              "       ...,\n",
              "       ['در سه دفعه ای که استفاده کردم،شش تکه مصرف شده و هر بار دو تکه'],\n",
              "       ['مرتبا خاموش میشه این یعنی فاجعه 24 ساعت سالم وبی نقص نبود'],\n",
              "       ['من اینو تو شگفت انگیز خریدم \\nدوتاهم خریدم \\nواقعااا خوشگل و نرمه']],\n",
              "      dtype=object)"
            ]
          },
          "metadata": {
            "tags": []
          },
          "execution_count": 101
        }
      ]
    },
    {
      "cell_type": "code",
      "metadata": {
        "id": "iaJRMjG-_VpQ"
      },
      "source": [
        "# Because the computation is time consuming (in terms of CPU), the data was sampled\r\n",
        "#df2 = df1.sample(10000, random_state=1).copy()\r\n",
        "\r\n",
        "df2=df1.copy()"
      ],
      "execution_count": 102,
      "outputs": []
    },
    {
      "cell_type": "code",
      "metadata": {
        "colab": {
          "base_uri": "https://localhost:8080/",
          "height": 363
        },
        "id": "R5OU_sSd7TwF",
        "outputId": "ff7b1a19-56fc-4353-df5f-5b64b8901f16"
      },
      "source": [
        "# Create a new column 'category_id' with encoded categories \r\n",
        "df2['category_id'] = df2['Label'].factorize()[0]\r\n",
        "category_id_df = df2[['comment', 'category_id']].drop_duplicates()\r\n",
        "\r\n",
        "\r\n",
        "# Dictionaries for future use\r\n",
        "category_to_id = dict(category_id_df.values)\r\n",
        "id_to_category = dict(category_id_df[['category_id', 'comment']].values)\r\n",
        "\r\n",
        "# New dataframe\r\n",
        "df2.head(10)"
      ],
      "execution_count": 103,
      "outputs": [
        {
          "output_type": "execute_result",
          "data": {
            "text/html": [
              "<div>\n",
              "<style scoped>\n",
              "    .dataframe tbody tr th:only-of-type {\n",
              "        vertical-align: middle;\n",
              "    }\n",
              "\n",
              "    .dataframe tbody tr th {\n",
              "        vertical-align: top;\n",
              "    }\n",
              "\n",
              "    .dataframe thead th {\n",
              "        text-align: right;\n",
              "    }\n",
              "</style>\n",
              "<table border=\"1\" class=\"dataframe\">\n",
              "  <thead>\n",
              "    <tr style=\"text-align: right;\">\n",
              "      <th></th>\n",
              "      <th>comment</th>\n",
              "      <th>Label</th>\n",
              "      <th>category_id</th>\n",
              "    </tr>\n",
              "  </thead>\n",
              "  <tbody>\n",
              "    <tr>\n",
              "      <th>0</th>\n",
              "      <td>واقعا عالیه .پیشنهاد میکنم بخرید .ضرر نمیکنید</td>\n",
              "      <td>U0001F970</td>\n",
              "      <td>0</td>\n",
              "    </tr>\n",
              "    <tr>\n",
              "      <th>1</th>\n",
              "      <td>مقداری بلنده\\nاگه عادت به بلند بودن بالش نداری...</td>\n",
              "      <td>U0001F970</td>\n",
              "      <td>0</td>\n",
              "    </tr>\n",
              "    <tr>\n",
              "      <th>2</th>\n",
              "      <td>تو پیسنهاد شگفت انگیز خریدم\\nخیلی تیز و باکیفیته</td>\n",
              "      <td>U0001F600</td>\n",
              "      <td>1</td>\n",
              "    </tr>\n",
              "    <tr>\n",
              "      <th>3</th>\n",
              "      <td>اگر این تبلت هم usb c داشت و هم نسبت تصویر 3 ب...</td>\n",
              "      <td>U0001F970</td>\n",
              "      <td>0</td>\n",
              "    </tr>\n",
              "    <tr>\n",
              "      <th>4</th>\n",
              "      <td>من برااین خریدمش که مثل پارچ بتونم شیر رو تو ل...</td>\n",
              "      <td>U0001F643</td>\n",
              "      <td>2</td>\n",
              "    </tr>\n",
              "    <tr>\n",
              "      <th>5</th>\n",
              "      <td>با سلام\\nبنده این مودم رو نزدیک به دو سال هست ...</td>\n",
              "      <td>U0001F33A</td>\n",
              "      <td>3</td>\n",
              "    </tr>\n",
              "    <tr>\n",
              "      <th>6</th>\n",
              "      <td>به این برند وقادار هستم و خوشحالم که ایران وار...</td>\n",
              "      <td>U0001F44D</td>\n",
              "      <td>4</td>\n",
              "    </tr>\n",
              "    <tr>\n",
              "      <th>7</th>\n",
              "      <td>هم خیلی خوشبوئه هم خوش دسته و هم لباس هامو خیل...</td>\n",
              "      <td>U0001F33A</td>\n",
              "      <td>3</td>\n",
              "    </tr>\n",
              "    <tr>\n",
              "      <th>8</th>\n",
              "      <td>خیلی خوبه من واقعا راضیم هم خوشبوئه و من دستام...</td>\n",
              "      <td>U0001F33A</td>\n",
              "      <td>3</td>\n",
              "    </tr>\n",
              "    <tr>\n",
              "      <th>9</th>\n",
              "      <td>دستگاه بسیار خوبیه\\nاز وقتی که نصب کردم و از آ...</td>\n",
              "      <td>U0001F62F</td>\n",
              "      <td>5</td>\n",
              "    </tr>\n",
              "  </tbody>\n",
              "</table>\n",
              "</div>"
            ],
            "text/plain": [
              "                                             comment      Label  category_id\n",
              "0      واقعا عالیه .پیشنهاد میکنم بخرید .ضرر نمیکنید  U0001F970            0\n",
              "1  مقداری بلنده\\nاگه عادت به بلند بودن بالش نداری...  U0001F970            0\n",
              "2   تو پیسنهاد شگفت انگیز خریدم\\nخیلی تیز و باکیفیته  U0001F600            1\n",
              "3  اگر این تبلت هم usb c داشت و هم نسبت تصویر 3 ب...  U0001F970            0\n",
              "4  من برااین خریدمش که مثل پارچ بتونم شیر رو تو ل...  U0001F643            2\n",
              "5  با سلام\\nبنده این مودم رو نزدیک به دو سال هست ...  U0001F33A            3\n",
              "6  به این برند وقادار هستم و خوشحالم که ایران وار...  U0001F44D            4\n",
              "7  هم خیلی خوشبوئه هم خوش دسته و هم لباس هامو خیل...  U0001F33A            3\n",
              "8  خیلی خوبه من واقعا راضیم هم خوشبوئه و من دستام...  U0001F33A            3\n",
              "9  دستگاه بسیار خوبیه\\nاز وقتی که نصب کردم و از آ...  U0001F62F            5"
            ]
          },
          "metadata": {
            "tags": []
          },
          "execution_count": 103
        }
      ]
    },
    {
      "cell_type": "code",
      "metadata": {
        "colab": {
          "base_uri": "https://localhost:8080/",
          "height": 419
        },
        "id": "XCVt-hDx7YDj",
        "outputId": "a1c3049c-0e7e-4a79-b29e-0e8bc5ae15d1"
      },
      "source": [
        "fig = plt.figure(figsize=(8,6))\r\n",
        "colors = ['grey','grey','grey','grey','grey','grey','grey','grey','grey',\r\n",
        "    'grey','darkblue','darkblue','darkblue']\r\n",
        "df2.groupby('Label').comment.count().sort_values().plot.barh(\r\n",
        "    ylim=0, color=colors, title= 'NUMBER OF Comment IN EACH PRODUCT CATEGORY\\n')\r\n",
        "plt.xlabel('Number of ocurrences', fontsize = 10);"
      ],
      "execution_count": 104,
      "outputs": [
        {
          "output_type": "display_data",
          "data": {
            "image/png": "[encoded data removed]",
            "text/plain": [
              "<Figure size 576x432 with 1 Axes>"
            ]
          },
          "metadata": {
            "tags": [],
            "needs_background": "light"
          }
        }
      ]
    },
    {
      "cell_type": "code",
      "metadata": {
        "id": "zlHiAqqAJHnI"
      },
      "source": [
        "normalizer =  hazm.Normalizer()\r\n",
        "tokenizer = hazm.SentenceTokenizer()\r\n",
        "tokens=hazm.word_tokenize"
      ],
      "execution_count": 105,
      "outputs": []
    },
    {
      "cell_type": "code",
      "metadata": {
        "colab": {
          "base_uri": "https://localhost:8080/"
        },
        "id": "ROe6V87C7a52",
        "outputId": "25755418-c183-4a52-db98-0cb79b5f0201"
      },
      "source": [
        "tfidf = TfidfVectorizer(lowercase=False, preprocessor=normalizer.normalize, tokenizer=tokens,ngram_range=(1, 2))\r\n",
        "\r\n",
        "# We transform each complaint into a vector\r\n",
        "dcom=df2.comment\r\n",
        "features = tfidf.fit_transform(dcom).toarray()\r\n",
        "\r\n",
        "labels = df2.category_id\r\n",
        "\r\n",
        "print(\"Each of the %d complaints is represented by %d features (TF-IDF score of unigrams and bigrams)\" %(features.shape))"
      ],
      "execution_count": 106,
      "outputs": [
        {
          "output_type": "stream",
          "text": [
            "Each of the 2000 complaints is represented by 55917 features (TF-IDF score of unigrams and bigrams)\n"
          ],
          "name": "stdout"
        }
      ]
    },
    {
      "cell_type": "code",
      "metadata": {
        "id": "7WY_diuv7dxL"
      },
      "source": [
        "\r\n",
        "\r\n",
        "# Finding the three most correlated terms with each of the product categories\r\n",
        "#N = 3\r\n",
        "#lis=liss=[]\r\n",
        "#for Product, category_id in sorted(category_to_id.items()):\r\n",
        " # features_chi2 = chi2(features, labels == category_id)\r\n",
        " # indices = np.argsort(features_chi2[0])\r\n",
        " # feature_names = np.array(tfidf.get_feature_names())[indices]\r\n",
        "#  unigrams = [v for v in feature_names if len(v.split(' ')) == 1]\r\n",
        " # bigrams = [v for v in feature_names if len(v.split(' ')) == 2]\r\n",
        "  #print(\"\\n==> %s:\" %(Product))\r\n",
        " # lis.append((unigrams[-N:]))\r\n",
        "  #liss.append(bigrams[-N:])\r\n",
        "\r\n"
      ],
      "execution_count": 107,
      "outputs": []
    },
    {
      "cell_type": "code",
      "metadata": {
        "id": "-PdZkttZ7oeh"
      },
      "source": [
        "X = df2['Label'] # Collection of documents\r\n",
        "y = df2['comment'] # Target or the labels we want to predict (i.e., the 13 different complaints of products)\r\n",
        "\r\n",
        "X_train, X_test, y_train, y_test = train_test_split(X, y, \r\n",
        "                                                    test_size=0.20,\r\n",
        "                                                    random_state = 0)"
      ],
      "execution_count": 108,
      "outputs": []
    },
    {
      "cell_type": "code",
      "metadata": {
        "id": "c6Jyc8As7tXq"
      },
      "source": [
        "models = [\r\n",
        "    RandomForestClassifier(n_estimators=100, max_depth=5, random_state=0),\r\n",
        "    LinearSVC(),\r\n",
        "]\r\n",
        "\r\n",
        "# 5 Cross-validation\r\n",
        "CV = 5\r\n",
        "cv_df = pd.DataFrame(index=range(CV * len(models)))\r\n",
        "\r\n",
        "entries = []\r\n",
        "for model in models:\r\n",
        "  model_name = model.__class__.__name__\r\n",
        "  accuracies = cross_val_score(model, features, labels, scoring='accuracy', cv=CV)\r\n",
        "  for fold_idx, accuracy in enumerate(accuracies):\r\n",
        "    entries.append((model_name, fold_idx, accuracy))\r\n",
        "    \r\n",
        "cv_df = pd.DataFrame(entries, columns=['model_name', 'fold_idx', 'accuracy'])"
      ],
      "execution_count": 109,
      "outputs": []
    },
    {
      "cell_type": "code",
      "metadata": {
        "colab": {
          "base_uri": "https://localhost:8080/",
          "height": 143
        },
        "id": "23rLKvQl72h3",
        "outputId": "c9bfe5e8-9a9e-420d-f86d-e29fcc523b7d"
      },
      "source": [
        "mean_accuracy = cv_df.groupby('model_name').accuracy.mean()\r\n",
        "std_accuracy = cv_df.groupby('model_name').accuracy.std()\r\n",
        "\r\n",
        "acc = pd.concat([mean_accuracy, std_accuracy], axis= 1, \r\n",
        "          ignore_index=True)\r\n",
        "acc.columns = ['Mean Accuracy', 'Standard deviation']\r\n",
        "acc"
      ],
      "execution_count": 110,
      "outputs": [
        {
          "output_type": "execute_result",
          "data": {
            "text/html": [
              "<div>\n",
              "<style scoped>\n",
              "    .dataframe tbody tr th:only-of-type {\n",
              "        vertical-align: middle;\n",
              "    }\n",
              "\n",
              "    .dataframe tbody tr th {\n",
              "        vertical-align: top;\n",
              "    }\n",
              "\n",
              "    .dataframe thead th {\n",
              "        text-align: right;\n",
              "    }\n",
              "</style>\n",
              "<table border=\"1\" class=\"dataframe\">\n",
              "  <thead>\n",
              "    <tr style=\"text-align: right;\">\n",
              "      <th></th>\n",
              "      <th>Mean Accuracy</th>\n",
              "      <th>Standard deviation</th>\n",
              "    </tr>\n",
              "    <tr>\n",
              "      <th>model_name</th>\n",
              "      <th></th>\n",
              "      <th></th>\n",
              "    </tr>\n",
              "  </thead>\n",
              "  <tbody>\n",
              "    <tr>\n",
              "      <th>LinearSVC</th>\n",
              "      <td>0.5065</td>\n",
              "      <td>0.011264</td>\n",
              "    </tr>\n",
              "    <tr>\n",
              "      <th>RandomForestClassifier</th>\n",
              "      <td>0.2810</td>\n",
              "      <td>0.001369</td>\n",
              "    </tr>\n",
              "  </tbody>\n",
              "</table>\n",
              "</div>"
            ],
            "text/plain": [
              "                        Mean Accuracy  Standard deviation\n",
              "model_name                                               \n",
              "LinearSVC                      0.5065            0.011264\n",
              "RandomForestClassifier         0.2810            0.001369"
            ]
          },
          "metadata": {
            "tags": []
          },
          "execution_count": 110
        }
      ]
    },
    {
      "cell_type": "code",
      "metadata": {
        "colab": {
          "base_uri": "https://localhost:8080/",
          "height": 368
        },
        "id": "zg1rfCJq76Gu",
        "outputId": "cced7859-99ea-4420-f82e-8d53c67fe53a"
      },
      "source": [
        "plt.figure(figsize=(8,5))\r\n",
        "sns.boxplot(x='model_name', y='accuracy', \r\n",
        "            data=cv_df, \r\n",
        "            color='lightblue', \r\n",
        "            showmeans=True)\r\n",
        "plt.title(\"MEAN ACCURACY (cv = 5)\\n\", size=14);"
      ],
      "execution_count": 111,
      "outputs": [
        {
          "output_type": "display_data",
          "data": {
            "image/png": "[encoded data removed]",
            "text/plain": [
              "<Figure size 576x360 with 1 Axes>"
            ]
          },
          "metadata": {
            "tags": [],
            "needs_background": "light"
          }
        }
      ]
    },
    {
      "cell_type": "code",
      "metadata": {
        "id": "3fa0AAmB79E7"
      },
      "source": [
        "X_train, X_test, y_train, y_test,indices_train,indices_test = train_test_split(features, \r\n",
        "                                                               labels, \r\n",
        "                                                               df2.index, test_size=0.25, \r\n",
        "                                                               random_state=1)\r\n",
        "model = LinearSVC()\r\n",
        "model.fit(X_train, y_train)\r\n",
        "y_pred = model.predict(X_test)"
      ],
      "execution_count": 112,
      "outputs": []
    },
    {
      "cell_type": "code",
      "metadata": {
        "colab": {
          "base_uri": "https://localhost:8080/"
        },
        "id": "PPpuhjG-7_yf",
        "outputId": "ba5e2df8-bcf6-4d57-f5b7-2af2872ffddc"
      },
      "source": [
        "# Classification report\r\n",
        "print('\\t\\t\\t\\tCLASSIFICATIION METRICS\\n')\r\n",
        "print(metrics.classification_report(y_test, y_pred, \r\n",
        "                                    target_names= df2['Label'].unique()))"
      ],
      "execution_count": 113,
      "outputs": [
        {
          "output_type": "stream",
          "text": [
            "\t\t\t\tCLASSIFICATIION METRICS\n",
            "\n",
            "              precision    recall  f1-score   support\n",
            "\n",
            "   U0001F970       0.48      0.73      0.58        81\n",
            "   U0001F600       0.45      0.30      0.36        43\n",
            "   U0001F643       0.67      0.12      0.20        17\n",
            "   U0001F33A       0.45      0.83      0.58       143\n",
            "   U0001F44D       0.64      0.33      0.44        48\n",
            "   U0001F62F       0.74      0.28      0.40        72\n",
            "   U0001F636       0.50      0.05      0.09        20\n",
            "   U0001F614       0.54      0.25      0.34        53\n",
            "   U0001F44E       0.00      0.00      0.00         8\n",
            "   U0001F64F       1.00      0.07      0.12        15\n",
            "\n",
            "    accuracy                           0.49       500\n",
            "   macro avg       0.55      0.30      0.31       500\n",
            "weighted avg       0.54      0.49      0.44       500\n",
            "\n"
          ],
          "name": "stdout"
        },
        {
          "output_type": "stream",
          "text": [
            "/usr/local/lib/python3.6/dist-packages/sklearn/metrics/_classification.py:1272: UndefinedMetricWarning: Precision and F-score are ill-defined and being set to 0.0 in labels with no predicted samples. Use `zero_division` parameter to control this behavior.\n",
            "  _warn_prf(average, modifier, msg_start, len(result))\n"
          ],
          "name": "stderr"
        }
      ]
    },
    {
      "cell_type": "code",
      "metadata": {
        "id": "VrYarrQg8FTi"
      },
      "source": [
        "conf_mat = confusion_matrix(y_test, y_pred)\r\n"
      ],
      "execution_count": 114,
      "outputs": []
    },
    {
      "cell_type": "code",
      "metadata": {
        "id": "s-TPxlD28LcI"
      },
      "source": [
        "#for predicted in category_id_df.category_id:\r\n",
        "#  for actual in category_id_df.category_id:\r\n",
        "#    if predicted != actual and conf_mat[actual, predicted] >= 20:\r\n",
        "#      print(\"'{}' predicted as '{}' : {} examples.\".format(id_to_category[actual], \r\n",
        " #                                                          id_to_category[predicted], \r\n",
        "  #                                                         conf_mat[actual, predicted]))\r\n",
        " #   \r\n",
        " #     display(df2.loc[indices_test[(y_test == actual) & (y_pred == predicted)]][['Label', \r\n",
        " #                                                               'comment']])\r\n",
        " #     print('')"
      ],
      "execution_count": 115,
      "outputs": []
    },
    {
      "cell_type": "code",
      "metadata": {
        "colab": {
          "base_uri": "https://localhost:8080/"
        },
        "id": "66BHFZle8UJd",
        "outputId": "31db2c8a-a790-47f9-a202-e7895511faf0"
      },
      "source": [
        "model.fit(features, labels)\r\n",
        "\r\n",
        "#N = 4\r\n",
        "#for Product, category_id in sorted(category_to_id.items()):\r\n",
        " # indices = np.argsort(model.coef_[category_id])\r\n",
        " # feature_names = np.array(tfidf.get_feature_names())[indices]\r\n",
        "#  unigrams = [v for v in reversed(feature_names) if len(v.split(' ')) == 1][:N]\r\n",
        "#  bigrams = [v for v in reversed(feature_names) if len(v.split(' ')) == 2][:N]\r\n",
        "#  print(\"\\n==> '{}':\".format(Product))\r\n",
        " # print(\"  * Top unigrams: %s\" %(', '.join(unigrams)))\r\n",
        " # print(\"  * Top bigrams: %s\" %(', '.join(bigrams)))"
      ],
      "execution_count": 116,
      "outputs": [
        {
          "output_type": "execute_result",
          "data": {
            "text/plain": [
              "LinearSVC(C=1.0, class_weight=None, dual=True, fit_intercept=True,\n",
              "          intercept_scaling=1, loss='squared_hinge', max_iter=1000,\n",
              "          multi_class='ovr', penalty='l2', random_state=None, tol=0.0001,\n",
              "          verbose=0)"
            ]
          },
          "metadata": {
            "tags": []
          },
          "execution_count": 116
        }
      ]
    },
    {
      "cell_type": "code",
      "metadata": {
        "id": "RZFoAIEm8ZW-"
      },
      "source": [
        "X_train, X_test, y_train, y_test = train_test_split(X, y, \r\n",
        "                                                    test_size=0.25,\r\n",
        "                                                    random_state = 0)\r\n",
        "\r\n",
        "tfidf = TfidfVectorizer(sublinear_tf=True, min_df=5,\r\n",
        "                        ngram_range=(1, 2), \r\n",
        "                        stop_words='english')\r\n",
        "\r\n",
        "fitted_vectorizer = tfidf.fit(X_train)\r\n",
        "tfidf_vectorizer_vectors = fitted_vectorizer.transform(X_train)\r\n",
        "\r\n",
        "model = LinearSVC().fit(tfidf_vectorizer_vectors, y_train)"
      ],
      "execution_count": 117,
      "outputs": []
    },
    {
      "cell_type": "code",
      "metadata": {
        "id": "_a3kF1QV8LSF"
      },
      "source": [
        "new_complaint = \"عالیه بنظرم بخرید خوشتون میاد\"\r\n",
        "result=fitted_vectorizer.transform([new_complaint])\r\n",
        "t=model.predict(result)\r\n",
        "i=0\r\n",
        "while i<len(df):\r\n",
        "  if df['comment'][i]==t:\r\n",
        "    emoj=df['Label'][i]\r\n",
        "    break\r\n",
        "  i+=1\r\n"
      ],
      "execution_count": 118,
      "outputs": []
    },
    {
      "cell_type": "code",
      "metadata": {
        "colab": {
          "base_uri": "https://localhost:8080/"
        },
        "id": "JSCG7_EjIbup",
        "outputId": "87e8baca-41fa-4c74-b5f6-420945b55546"
      },
      "source": [
        "!pip install emoji\r\n",
        "import emoji"
      ],
      "execution_count": 119,
      "outputs": [
        {
          "output_type": "stream",
          "text": [
            "Requirement already satisfied: emoji in /usr/local/lib/python3.6/dist-packages (1.2.0)\n"
          ],
          "name": "stdout"
        }
      ]
    },
    {
      "cell_type": "code",
      "metadata": {
        "id": "2ChJhH7PLkxE"
      },
      "source": [
        "emo=pd.read_csv('/content/Emoji_Sobhani.csv')\r\n",
        "dic=emo.Code"
      ],
      "execution_count": 120,
      "outputs": []
    },
    {
      "cell_type": "code",
      "metadata": {
        "colab": {
          "base_uri": "https://localhost:8080/"
        },
        "id": "4_XO2FzoPKHB",
        "outputId": "0542b5f4-6e36-40c7-d19a-4329feea9c60"
      },
      "source": [
        "dic"
      ],
      "execution_count": 137,
      "outputs": [
        {
          "output_type": "execute_result",
          "data": {
            "text/plain": [
              "0    U0001F600\n",
              "1    U0001F643\n",
              "2    U0001F970\n",
              "3    U0001F44E\n",
              "4    U0001F636\n",
              "5    U0001F614\n",
              "6    U0001F44D\n",
              "7    U0001F33A\n",
              "8    U0001F62F\n",
              "9    U0001F64F\n",
              "Name: Code, dtype: object"
            ]
          },
          "metadata": {
            "tags": []
          },
          "execution_count": 137
        }
      ]
    },
    {
      "cell_type": "code",
      "metadata": {
        "colab": {
          "base_uri": "https://localhost:8080/"
        },
        "id": "xiFWp5QLLxXM",
        "outputId": "0c6010f5-89ec-4b54-c692-306cd3bd8442"
      },
      "source": [
        "if emoj == dic[0]:\r\n",
        "   print(  \"\\U0001F600\")\r\n",
        "if emoj == dic[1]:\r\n",
        "   print(   \"\\U0001F643\")\r\n",
        "if emoj == dic[2]:\r\n",
        "   print(   \"\\U0001F970\")\r\n",
        "\r\n",
        "if emoj == dic[3]:\r\n",
        "   print(   \"\\U0001F44E\")\r\n",
        "\r\n",
        "if emoj == dic[4]:\r\n",
        "   print(   \"\\U0001F636\")\r\n",
        "\r\n",
        "if emoj == dic[5]:\r\n",
        "   print(   \"\\U0001F614\")\r\n",
        "\r\n",
        "if emoj == dic[6]:\r\n",
        "   print(   \"\\U0001F44D\")\r\n",
        "\r\n",
        "if emoj == dic[7]:\r\n",
        "  print(    \"\\U0001F33A\")\r\n",
        "\r\n",
        "if emoj == dic[8]:\r\n",
        "  print(    \"\\U0001F62F\")\r\n",
        "\r\n",
        "if emoj == dic[9]:\r\n",
        "   print(   \"\\U0001F64F\")"
      ],
      "execution_count": 139,
      "outputs": [
        {
          "output_type": "stream",
          "text": [
            "😯\n"
          ],
          "name": "stdout"
        }
      ]
    }
  ]
}